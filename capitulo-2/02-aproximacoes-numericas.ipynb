{
 "metadata": {
  "language_info": {
   "codemirror_mode": {
    "name": "ipython",
    "version": 3
   },
   "file_extension": ".py",
   "mimetype": "text/x-python",
   "name": "python",
   "nbconvert_exporter": "python",
   "pygments_lexer": "ipython3",
   "version": 3
  },
  "orig_nbformat": 2,
  "kernelspec": {
   "name": "sagemath",
   "display_name": "SageMath 8.6",
   "language": ""
  }
 },
 "nbformat": 4,
 "nbformat_minor": 2,
 "cells": [
  {
   "source": [
    "# Capítulo 2\n",
    "---\n",
    "## _SageMath: Primeiros Passos_\n",
    "\n",
    "### Constantes\n",
    "\n",
    "A seguir uma tabela com as constantes matemáticas mais usadas, predefinidas no Sage.\n",
    "\n",
    "Constante | Descrição      | Sintaxe Sage\n",
    "----------|----------------|-------------\n",
    "$\\pi$     | Número $\\pi$   |pi\n",
    "$e$       | Número de Euler|e\n",
    "$i$       | Número Imaginário| `i` ou `I`\n",
    "$\\infty$  | Infinito | `Infinity` ou `oo`"
   ],
   "cell_type": "markdown",
   "metadata": {}
  },
  {
   "source": [
    "### Aproximações Numéricas\n",
    "\n",
    "A aproximação numérica de um número `r` pode ser obtida a partir da sintaxe:\n",
    "\n",
    "* `n(r, prec=b, digits=d)`\n",
    "\n",
    "Onde `d` é o inteiro que representa o número de dígitos de precisão e `b` o número de dígitos."
   ],
   "cell_type": "markdown",
   "metadata": {}
  },
  {
   "cell_type": "code",
   "execution_count": 1,
   "metadata": {},
   "outputs": [
    {
     "output_type": "execute_result",
     "data": {
      "text/plain": [
       "3.1415926535897932385"
      ]
     },
     "metadata": {},
     "execution_count": 1
    }
   ],
   "source": [
    "n(pi, digits=20)"
   ]
  },
  {
   "source": [
    "### Atribuições\n",
    "\n",
    "O operador `=` atribui um objeto a um nome."
   ],
   "cell_type": "markdown",
   "metadata": {}
  },
  {
   "cell_type": "code",
   "execution_count": 2,
   "metadata": {},
   "outputs": [
    {
     "output_type": "execute_result",
     "data": {
      "text/plain": [
       "(10, 20, 30)"
      ]
     },
     "metadata": {},
     "execution_count": 2
    }
   ],
   "source": [
    "# Atribuições simultâneas\n",
    "a, b, c = 10, 20, 30\n",
    "a, b, c"
   ]
  },
  {
   "cell_type": "code",
   "execution_count": 4,
   "metadata": {},
   "outputs": [
    {
     "output_type": "execute_result",
     "data": {
      "text/plain": [
       "(20, 400, 50)"
      ]
     },
     "metadata": {},
     "execution_count": 4
    }
   ],
   "source": [
    "# Abreviando atribuições\n",
    "a += 10 # a = a + 10\n",
    "b *= 20 # b = b * 20\n",
    "c += a # c = c + a, note que o valor adicionado a já terá sido alterado\n",
    "\n",
    "a,b,c"
   ]
  },
  {
   "cell_type": "code",
   "execution_count": 7,
   "metadata": {},
   "outputs": [],
   "source": [
    "# O comando reset() exclui da memória todas as variáveis definidas até o momento\n",
    "reset()"
   ]
  },
  {
   "cell_type": "code",
   "execution_count": 8,
   "metadata": {},
   "outputs": [
    {
     "output_type": "error",
     "ename": "NameError",
     "evalue": "name 'a' is not defined",
     "traceback": [
      "\u001b[0;31m\u001b[0m",
      "\u001b[0;31mNameError\u001b[0mTraceback (most recent call last)",
      "\u001b[0;32m/usr/lib/python2.7/dist-packages/sage/all_cmdline.pyc\u001b[0m in \u001b[0;36m<module>\u001b[0;34m()\u001b[0m\n\u001b[0;32m----> 1\u001b[0;31m \u001b[0ma\u001b[0m\u001b[0;34m\u001b[0m\u001b[0m\n\u001b[0m",
      "\u001b[0;31mNameError\u001b[0m: name 'a' is not defined"
     ]
    }
   ],
   "source": [
    "a"
   ]
  },
  {
   "source": [
    "---\n",
    "### Variáveis em Conjuntos Numéricos"
   ],
   "cell_type": "markdown",
   "metadata": {}
  },
  {
   "cell_type": "code",
   "execution_count": 13,
   "metadata": {},
   "outputs": [
    {
     "output_type": "execute_result",
     "data": {
      "text/plain": [
       "3/2"
      ]
     },
     "metadata": {},
     "execution_count": 13
    }
   ],
   "source": [
    "# Variáveis Racional\n",
    "inteiro = QQ(1.5)\n",
    "inteiro"
   ]
  },
  {
   "cell_type": "code",
   "execution_count": 15,
   "metadata": {},
   "outputs": [
    {
     "output_type": "execute_result",
     "data": {
      "text/plain": [
       "0.333333333333333"
      ]
     },
     "metadata": {},
     "execution_count": 15
    }
   ],
   "source": [
    "# Variável Real\n",
    "real = RR(1/3)\n",
    "real"
   ]
  },
  {
   "cell_type": "code",
   "execution_count": 18,
   "metadata": {},
   "outputs": [
    {
     "output_type": "execute_result",
     "data": {
      "text/plain": [
       "2.0*I"
      ]
     },
     "metadata": {},
     "execution_count": 18
    }
   ],
   "source": [
    "# Variável Complexa\n",
    "complexo = n(CC(sqrt(-4)), digits=1)\n",
    "complexo"
   ]
  }
 ]
}