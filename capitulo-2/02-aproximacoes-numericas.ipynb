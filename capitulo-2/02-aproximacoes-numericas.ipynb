{
 "metadata": {
  "language_info": {
   "codemirror_mode": {
    "name": "ipython",
    "version": 3
   },
   "file_extension": ".py",
   "mimetype": "text/x-python",
   "name": "python",
   "nbconvert_exporter": "python",
   "pygments_lexer": "ipython3",
   "version": 3
  },
  "orig_nbformat": 2,
  "kernelspec": {
   "name": "sagemath",
   "display_name": "SageMath 8.6"
  }
 },
 "nbformat": 4,
 "nbformat_minor": 2,
 "cells": [
  {
   "source": [
    "# Capítulo 2\n",
    "---\n",
    "## _SageMath: Primeiros Passos_\n",
    "\n",
    "### Constantes\n",
    "\n",
    "A seguir uma tabela com as constantes matemáticas mais usadas, predefinidas no Sage.\n",
    "\n",
    "Constante | Descrição      | Sintaxe Sage\n",
    "----------|----------------|-------------\n",
    "$\\pi$     | Número $\\pi$   |pi\n",
    "$e$       | Número de Euler|e\n",
    "$i$       | Número Imaginário| `i` ou `I`\n",
    "$\\infty$  | Infinito | `Infinity` ou `oo`"
   ],
   "cell_type": "markdown",
   "metadata": {}
  },
  {
   "cell_type": "code",
   "execution_count": null,
   "metadata": {},
   "outputs": [],
   "source": []
  }
 ]
}