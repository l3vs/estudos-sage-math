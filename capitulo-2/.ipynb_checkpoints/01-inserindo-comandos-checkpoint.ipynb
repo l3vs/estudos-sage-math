{
 "cells": [
  {
   "cell_type": "markdown",
   "metadata": {},
   "source": [
    "# Capítulo 2\n",
    "---\n",
    "## _SageMath: Primeiros Passos_\n",
    "\n",
    "### Notação\n",
    "A notação usada no livro para os códigos é na forma:\n",
    "\n",
    "~~~\n",
    "sage: comando 1\n",
    "    saída do comando 1\n",
    "sage: comando 2\n",
    "    saída do comando 2\n",
    "~~~\n",
    "\n",
    "ou\n",
    "\n",
    "~~~\n",
    "sage: comando 1, comando 2\n",
    "    (saída do comando 1, saída do comando 2)\n",
    "~~~"
   ]
  },
  {
   "cell_type": "code",
   "execution_count": 1,
   "metadata": {},
   "outputs": [
    {
     "data": {
      "text/plain": [
       "8"
      ]
     },
     "execution_count": 1,
     "metadata": {},
     "output_type": "execute_result"
    }
   ],
   "source": [
    "2^3"
   ]
  },
  {
   "cell_type": "code",
   "execution_count": 2,
   "metadata": {},
   "outputs": [
    {
     "data": {
      "text/plain": [
       "16"
      ]
     },
     "execution_count": 2,
     "metadata": {},
     "output_type": "execute_result"
    }
   ],
   "source": [
    "2^4"
   ]
  },
  {
   "cell_type": "code",
   "execution_count": 4,
   "metadata": {},
   "outputs": [
    {
     "data": {
      "text/plain": [
       "(8, 16)"
      ]
     },
     "execution_count": 4,
     "metadata": {},
     "output_type": "execute_result"
    }
   ],
   "source": [
    "2^3, 2^4"
   ]
  },
  {
   "cell_type": "code",
   "execution_count": 5,
   "metadata": {},
   "outputs": [
    {
     "data": {
      "text/plain": [
       "45"
      ]
     },
     "execution_count": 5,
     "metadata": {},
     "output_type": "execute_result"
    }
   ],
   "source": [
    "# Cometários\n",
    "# Tudo que for digitado após o símbolo # é desconsiderado pelo interpretador\n",
    "\n",
    "3*15"
   ]
  },
  {
   "cell_type": "markdown",
   "metadata": {},
   "source": [
    "---\n",
    "\n",
    "### Objetos\n",
    "\n",
    "Em geral, ao executar um comando no `sage`, primeiro é indentificado o tipo de objeto, e seus atributos, e em seguida a operação requerida.\n",
    "\n",
    "No exemplo a seguir vamos calcular o determinante da matriz $M$, sabendo que:\n",
    "$$\n",
    "M = \\left[\\begin{matrix}  0 & 1 \\\\ -1 & 5  \\end{matrix} \\right]  \n",
    "$$\n",
    "\n",
    "Observe que a escrita usual em Sage segue a forma: `objeto.método()`."
   ]
  },
  {
   "cell_type": "code",
   "execution_count": 6,
   "metadata": {},
   "outputs": [
    {
     "data": {
      "text/plain": [
       "1"
      ]
     },
     "execution_count": 6,
     "metadata": {},
     "output_type": "execute_result"
    }
   ],
   "source": [
    "M = matrix([[0,1],[-1,5]])\n",
    "M.det()"
   ]
  },
  {
   "cell_type": "markdown",
   "metadata": {},
   "source": [
    "No entanto, a sitaxe de muitos métodos, também podem ser usadas de maneira a desconsiderar a orietação à objetos do Sage:"
   ]
  },
  {
   "cell_type": "code",
   "execution_count": 7,
   "metadata": {},
   "outputs": [
    {
     "data": {
      "text/plain": [
       "4"
      ]
     },
     "execution_count": 7,
     "metadata": {},
     "output_type": "execute_result"
    }
   ],
   "source": [
    "16.sqrt() # Sintaxe orientada a objetos"
   ]
  },
  {
   "cell_type": "code",
   "execution_count": 8,
   "metadata": {},
   "outputs": [
    {
     "data": {
      "text/plain": [
       "4"
      ]
     },
     "execution_count": 8,
     "metadata": {},
     "output_type": "execute_result"
    }
   ],
   "source": [
    "sqrt(16) # Sintaxe usual"
   ]
  },
  {
   "cell_type": "code",
   "execution_count": 9,
   "metadata": {},
   "outputs": [
    {
     "data": {
      "text/plain": [
       "1"
      ]
     },
     "execution_count": 9,
     "metadata": {},
     "output_type": "execute_result"
    }
   ],
   "source": [
    "# Para a matrix M, anterior, podemos também fazer\n",
    "det(M)"
   ]
  },
  {
   "cell_type": "code",
   "execution_count": 12,
   "metadata": {},
   "outputs": [
    {
     "data": {
      "text/plain": [
       "(\n",
       "[ 0  1]  [ 0 -1]  [ 0 -1]\n",
       "[-1  5], [ 1  5], [ 1  5]\n",
       ")"
      ]
     },
     "execution_count": 12,
     "metadata": {},
     "output_type": "execute_result"
    }
   ],
   "source": [
    "# Fazendo a transposão: sintaxe orientada a objetos e sintaxe não orientada\n",
    "M, M.transpose(), transpose(M)\n"
   ]
  },
  {
   "cell_type": "code",
   "execution_count": 14,
   "metadata": {},
   "outputs": [
    {
     "data": {
      "text/plain": [
       "[ 0 -1]\n",
       "[ 1  5]"
      ]
     },
     "execution_count": 14,
     "metadata": {},
     "output_type": "execute_result"
    }
   ],
   "source": [
    "# Para a transposição, além do método transpose dos objetos do tipo Matriz, podemos usar o atributo T\n",
    "\n",
    "M.T"
   ]
  },
  {
   "cell_type": "markdown",
   "metadata": {},
   "source": [
    "Existem métodos que querem um parâmetro quando usados. Um exemplo disso é o método `solve`, usado na resolução de equações, onde devemos informar em qual variável queremos a solução.\n",
    "\n",
    "A seguir vamos resolver a equação $x^2 - 5x + 6 = 0$ para a variável $x$."
   ]
  },
  {
   "cell_type": "code",
   "execution_count": 16,
   "metadata": {},
   "outputs": [
    {
     "data": {
      "text/plain": [
       "[x == 3, x == 2]"
      ]
     },
     "execution_count": 16,
     "metadata": {},
     "output_type": "execute_result"
    }
   ],
   "source": [
    "# Com orientação à objetos\n",
    "(x^2-5*x+6).solve(x)"
   ]
  },
  {
   "cell_type": "code",
   "execution_count": 18,
   "metadata": {},
   "outputs": [
    {
     "data": {
      "text/plain": [
       "[x == 3, x == 2]"
      ]
     },
     "execution_count": 18,
     "metadata": {},
     "output_type": "execute_result"
    }
   ],
   "source": [
    "# Sem orientação à objetos\n",
    "solve(x^2-5*x+6,x)"
   ]
  },
  {
   "cell_type": "markdown",
   "metadata": {},
   "source": [
    "Dessa forma a sintaxe de comandos do Sage admite a escrita:\n",
    "* `objeto.método(parâmetros)` ou\n",
    "\n",
    "* `método(objeto, parâmetros)`."
   ]
  },
  {
   "cell_type": "markdown",
   "metadata": {},
   "source": [
    "Para sabermos o informações sobre um método específico, usamos a seguinte notação\n",
    "\n",
    "`método?`\n",
    "\n",
    "e executamos a celula em questão.\n",
    "\n",
    "A seguir vamos ver informações sobre o método `det` dos objetos de tipo matriz."
   ]
  },
  {
   "cell_type": "code",
   "execution_count": 21,
   "metadata": {},
   "outputs": [
    {
     "name": "stdout",
     "output_type": "stream",
     "text": [
      "\u001b[0;31mSignature:\u001b[0m      \u001b[0mdet\u001b[0m\u001b[0;34m(\u001b[0m\u001b[0mx\u001b[0m\u001b[0;34m)\u001b[0m\u001b[0;34m\u001b[0m\u001b[0m\n",
      "\u001b[0;31mDocstring:\u001b[0m     \n",
      "   Return the determinant of \"x\".\n",
      "\n",
      "   EXAMPLES:\n",
      "\n",
      "      sage: M = MatrixSpace(QQ,3,3)\n",
      "      sage: A = M([1,2,3,4,5,6,7,8,9])\n",
      "      sage: det(A)\n",
      "      0\n",
      "\u001b[0;31mInit docstring:\u001b[0m x.__init__(...) initializes x; see help(type(x)) for signature\n",
      "\u001b[0;31mFile:\u001b[0m           /usr/lib/python2.7/dist-packages/sage/misc/functional.py\n",
      "\u001b[0;31mType:\u001b[0m           function\n"
     ]
    }
   ],
   "source": [
    "det?"
   ]
  },
  {
   "cell_type": "markdown",
   "metadata": {},
   "source": [
    "### Tipos Básicos\n",
    "\n",
    "O sage admite três tipos básicos de números\n",
    "\n",
    "* Real: os números de ponto flutante, `float`;\n",
    "\n",
    "* Inteiro: números do tipo `int`;\n",
    "\n",
    "* Racionais: números fracionários $\\frac{p}{q}$, com $p,q \\in \\mathbb{Z}$ e $q \\neq0$."
   ]
  },
  {
   "cell_type": "code",
   "execution_count": 26,
   "metadata": {},
   "outputs": [
    {
     "data": {
      "text/plain": [
       "(<type 'sage.rings.real_mpfr.RealLiteral'>,\n",
       " <type 'sage.rings.integer.Integer'>,\n",
       " <type 'sage.rings.rational.Rational'>)"
      ]
     },
     "execution_count": 26,
     "metadata": {},
     "output_type": "execute_result"
    }
   ],
   "source": [
    "type(3.14159), type(-5), type(1/2)"
   ]
  },
  {
   "cell_type": "markdown",
   "metadata": {},
   "source": [
    "---\n",
    "\n",
    "### Operações Básicas\n",
    "\n",
    "Operador    |Descrição\n",
    "------------|---------\n",
    "`+`         |Adição\n",
    "`-`         |Subtração\n",
    "`*`         |Multiplicação\n",
    "`^` ou `**` |Potenciação\n",
    "`/`         |Divisão\n",
    "`//`        |Quociente Inteiro\n",
    "`%`         |Resto"
   ]
  },
  {
   "cell_type": "code",
   "execution_count": 27,
   "metadata": {},
   "outputs": [
    {
     "data": {
      "text/plain": [
       "8"
      ]
     },
     "execution_count": 27,
     "metadata": {},
     "output_type": "execute_result"
    }
   ],
   "source": [
    "# Podemos usar a útima saída usando _ (underline)\n",
    "a = 5\n",
    "b = 3\n",
    "a + b"
   ]
  },
  {
   "cell_type": "code",
   "execution_count": 28,
   "metadata": {},
   "outputs": [
    {
     "data": {
      "text/plain": [
       "64"
      ]
     },
     "execution_count": 28,
     "metadata": {},
     "output_type": "execute_result"
    }
   ],
   "source": [
    "# Chamando a última saída\n",
    "_^2"
   ]
  }
 ],
 "metadata": {
  "kernelspec": {
   "display_name": "SageMath 8.6",
   "language": "",
   "name": "sagemath"
  },
  "language_info": {
   "codemirror_mode": {
    "name": "ipython",
    "version": 3
   },
   "file_extension": ".py",
   "mimetype": "text/x-python",
   "name": "python",
   "nbconvert_exporter": "python",
   "pygments_lexer": "ipython3",
   "version": 3
  }
 },
 "nbformat": 4,
 "nbformat_minor": 4
}
